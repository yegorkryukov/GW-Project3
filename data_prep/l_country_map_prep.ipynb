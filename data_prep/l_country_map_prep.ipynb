{
 "cells": [
  {
   "cell_type": "code",
   "execution_count": null,
   "metadata": {},
   "outputs": [],
   "source": [
    "#dependencies\n",
    "import pandas as pd"
   ]
  },
  {
   "cell_type": "code",
   "execution_count": null,
   "metadata": {},
   "outputs": [],
   "source": [
    "#read in csvs as dfs\n",
    "start_site = 'Guardian'\n",
    "media_names = ['DailyBeast', 'MotherJones', 'NewRepublic', 'BBC',\n",
    "               'Politico', 'Slate', 'Atlantic', 'Intercept', 'WashingtonPost']\n",
    "\n",
    "left_country_df = pd.read_csv(f'../output/L-{start_site}3_country.csv', index_col=0)\n",
    "#drop the percentage column\n",
    "left_country_df.drop(['Percentage'], axis=1, inplace=True)\n",
    "\n",
    "for name in media_names:\n",
    "    df = pd.read_csv(f'../output/L-{name}3_country.csv', index_col=0)\n",
    "    #drop the percentage column\n",
    "    df.drop(['Percentage'], axis=1, inplace=True)\n",
    "    #add the df to the country_df\n",
    "    left_country_df = left_country_df.add(df, fill_value=0)\n",
    "\n",
    "#sort descending\n",
    "left_country_df.sort_values(by=['Count'], ascending=False, inplace=True)\n",
    "left_country_df"
   ]
  },
  {
   "cell_type": "code",
   "execution_count": null,
   "metadata": {},
   "outputs": [],
   "source": [
    "#Get the count total\n",
    "country_total = left_country_df.sum(axis=0)\n",
    "\n",
    "#pull out the actual number\n",
    "country_total = country_total.iloc[0]\n",
    "\n",
    "country_total"
   ]
  },
  {
   "cell_type": "code",
   "execution_count": null,
   "metadata": {},
   "outputs": [],
   "source": [
    "#get the percentages and make a column\n",
    "left_country_df['Percentage'] = [(row/country_total) * 100 for row in left_country_df['Count']]\n",
    "\n",
    "left_country_df.head(10)"
   ]
  },
  {
   "cell_type": "code",
   "execution_count": null,
   "metadata": {},
   "outputs": [],
   "source": [
    "#drop the count column\n",
    "left_country_df = left_country_df[['Percentage']]\n",
    "\n",
    "left_country_df.head()"
   ]
  },
  {
   "cell_type": "code",
   "execution_count": null,
   "metadata": {},
   "outputs": [],
   "source": [
    "#export as csv\n",
    "left_country_df.to_csv('../output/Left_country.csv')"
   ]
  }
 ],
 "metadata": {
  "kernelspec": {
   "display_name": "Python 3",
   "language": "python",
   "name": "python3"
  },
  "language_info": {
   "codemirror_mode": {
    "name": "ipython",
    "version": 3
   },
   "file_extension": ".py",
   "mimetype": "text/x-python",
   "name": "python",
   "nbconvert_exporter": "python",
   "pygments_lexer": "ipython3",
   "version": "3.6.6"
  }
 },
 "nbformat": 4,
 "nbformat_minor": 2
}
