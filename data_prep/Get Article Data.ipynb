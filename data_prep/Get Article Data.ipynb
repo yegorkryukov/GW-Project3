{
 "cells": [
  {
   "cell_type": "code",
   "execution_count": 2,
   "metadata": {
    "collapsed": true
   },
   "outputs": [],
   "source": [
    "# Dependencies\n",
    "import pymongo\n",
    "\n",
    "# Initialize PyMongo to work with MongoDBs\n",
    "conn = 'mongodb://localhost:27017'\n",
    "client = pymongo.MongoClient(conn)\n",
    "\n",
    "# Get database from Mongo\n",
    "db = client['FINALP']"
   ]
  },
  {
   "cell_type": "code",
   "execution_count": 15,
   "metadata": {
    "collapsed": true
   },
   "outputs": [],
   "source": [
    "# Dependencies\n",
    "import time\n",
    "import pickle\n",
    "\n",
    "def GetArticles(collection_name):\n",
    "    \n",
    "    # Get starting time\n",
    "    start = time.time()\n",
    "    \n",
    "    # Print database name\n",
    "    print()\n",
    "    print(collection_name)\n",
    "    print('---------------------------')\n",
    "    \n",
    "    # Get all documents from HTML_pages collection\n",
    "    documents = db[collection_name].find()\n",
    "    \n",
    "    # Count the number of documents\n",
    "    count = documents.count()\n",
    "\n",
    "    # Counter used to track progress\n",
    "    i = 1\n",
    "    \n",
    "    # Blank list to store titles\n",
    "    title_list = []\n",
    "\n",
    "    # Iterate through each document\n",
    "    for document in documents:\n",
    "\n",
    "        # Get the title from the document\n",
    "        title = document['meta']['title']\n",
    "        \n",
    "        # Append title to list\n",
    "        title_list.append(title)\n",
    "        \n",
    "        # Disply progress and title\n",
    "        print(i, 'of', count, ':', title)\n",
    "\n",
    "        # Increment progress counter\n",
    "        i += 1\n",
    "    \n",
    "    # Create file name (e.g., BBC_titles)\n",
    "    file_name = collection_name + \"_titles\"\n",
    "    \n",
    "    # Open the file ('wb' is for write binary)\n",
    "    file_object = open(file_name,'wb')\n",
    "    \n",
    "    # Dump list of titles to pickle file\n",
    "    pickle.dump(title_list, file_object)\n",
    "    \n",
    "    # Close file\n",
    "    file_object.close()\n",
    "    \n",
    "    end = time.time()\n",
    "    print(\"Minutes: \" + str((end - start)/60))\n",
    "\n",
    "    # Return list of titles\n",
    "    return(title_list)"
   ]
  },
  {
   "cell_type": "code",
   "execution_count": null,
   "metadata": {
    "scrolled": true
   },
   "outputs": [],
   "source": [
    "start = time.time()\n",
    "\n",
    "atlantic_articles = GetArticles(\"atlantic\")\n",
    "americanconservative_articles = GetArticles(\"americanconservative\")\n",
    "bbc_articles = GetArticles(\"BBC\")\n",
    "breitbart_articles = GetArticles(\"breitbart\")\n",
    "thedailybeast_articles = GetArticles(\"thedailybeast\")\n",
    "dailywire_articles = GetArticles(\"dailywire\")\n",
    "economist_articles = GetArticles(\"economist\")\n",
    "foxnews_articles = GetArticles(\"foxnews\")\n",
    "theguardian_articles = GetArticles(\"theguardian\")\n",
    "thehill_articles = GetArticles(\"thehill\")\n",
    "theintercept_articles = GetArticles(\"theintercept\")\n",
    "motherjones_articles = GetArticles(\"mjones\")\n",
    "newrepublic_articles = GetArticles(\"newrepublic\")\n",
    "nypost_articles = GetArticles(\"nypost\")\n",
    "politico_articles = GetArticles(\"politico\")\n",
    "reason_articles = GetArticles(\"reason\")\n",
    "slate_articles = GetArticles(\"slate\")\n",
    "fiscaltimes_articles = GetArticles(\"fiscaltimes\")\n",
    "washpost_articles = GetArticles(\"washpost\")       \n",
    "washtimes_articles = GetArticles(\"washtimes\")\n",
    "\n",
    "print()\n",
    "end = time.time()\n",
    "print(\"Minutes: \" + str((end - start)/60))"
   ]
  },
  {
   "cell_type": "code",
   "execution_count": null,
   "metadata": {
    "collapsed": true
   },
   "outputs": [],
   "source": []
  }
 ],
 "metadata": {
  "kernelspec": {
   "display_name": "Python 3",
   "language": "python",
   "name": "python3"
  },
  "language_info": {
   "codemirror_mode": {
    "name": "ipython",
    "version": 3
   },
   "file_extension": ".py",
   "mimetype": "text/x-python",
   "name": "python",
   "nbconvert_exporter": "python",
   "pygments_lexer": "ipython3",
   "version": "3.6.3"
  }
 },
 "nbformat": 4,
 "nbformat_minor": 2
}
