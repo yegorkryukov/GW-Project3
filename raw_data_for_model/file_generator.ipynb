{
 "cells": [
  {
   "cell_type": "code",
   "execution_count": 1,
   "metadata": {},
   "outputs": [],
   "source": [
    "import pymongo as pm\n",
    "from bson.objectid import ObjectId"
   ]
  },
  {
   "cell_type": "code",
   "execution_count": 2,
   "metadata": {},
   "outputs": [],
   "source": [
    "import logging\n",
    "logging.basicConfig(level=logging.DEBUG)\n",
    "log = logging.getLogger(__name__)"
   ]
  },
  {
   "cell_type": "code",
   "execution_count": 3,
   "metadata": {},
   "outputs": [],
   "source": [
    "# Initialize PyMongo to work with MongoDBs\n",
    "conn = 'mongodb://localhost:27017'\n",
    "client = pm.MongoClient(conn, maxPoolSize=200)\n",
    "\n",
    "# define db \n",
    "DB_NAME = 'FINALP'\n",
    "collection = 'WashTimes'\n",
    "db = client[DB_NAME]"
   ]
  },
  {
   "cell_type": "code",
   "execution_count": null,
   "metadata": {},
   "outputs": [],
   "source": [
    "# rename collection\n",
    "# db.dailycaller.rename('r_'+'dailycaller')"
   ]
  },
  {
   "cell_type": "code",
   "execution_count": 4,
   "metadata": {},
   "outputs": [
    {
     "name": "stderr",
     "output_type": "stream",
     "text": [
      "/anaconda3/lib/python3.6/site-packages/ipykernel_launcher.py:1: DeprecationWarning: collection_names is deprecated. Use list_collection_names instead.\n",
      "  \"\"\"Entry point for launching an IPython kernel.\n"
     ]
    },
    {
     "data": {
      "text/plain": [
       "['l_atlantic',\n",
       " 'l_bbc',\n",
       " 'l_guardian',\n",
       " 'l_huffpost',\n",
       " 'l_mjones',\n",
       " 'l_newrep',\n",
       " 'l_nytimes',\n",
       " 'l_politoco',\n",
       " 'l_slate',\n",
       " 'l_thedailybeast',\n",
       " 'l_theintercept',\n",
       " 'l_washpost',\n",
       " 'r_amconser',\n",
       " 'r_breitbart',\n",
       " 'r_dailycaller',\n",
       " 'r_dailywire',\n",
       " 'r_economist',\n",
       " 'r_fiscaltimes',\n",
       " 'r_foxnews',\n",
       " 'r_nypost',\n",
       " 'r_reason',\n",
       " 'r_thehill',\n",
       " 'r_washtimes']"
      ]
     },
     "execution_count": 4,
     "metadata": {},
     "output_type": "execute_result"
    }
   ],
   "source": [
    "sorted(db.collection_names())"
   ]
  },
  {
   "cell_type": "code",
   "execution_count": null,
   "metadata": {},
   "outputs": [],
   "source": [
    "# extract text field and save to a file\n",
    "i = 0\n",
    "PATH = 'l'\n",
    "for collection in ['l_atlantic',\n",
    "                   'l_bbc',\n",
    "                   'l_guardian',\n",
    "                   'l_huffpost',\n",
    "                   'l_mjones',\n",
    "                   'l_newrep',\n",
    "                   'l_nytimes',\n",
    "                   'l_politoco',\n",
    "                   'l_slate',\n",
    "                   'l_thedailybeast',\n",
    "                   'l_theintercept',\n",
    "                   'l_washpost']:\n",
    "    for doc in db[collection].find():\n",
    "        i+=1\n",
    "        filename = PATH + '/' + str(i) + '.txt'\n",
    "        log.debug(f'Processing {doc[\"_id\"]}: {filename}')\n",
    "\n",
    "        try:\n",
    "            with open(filename,\"w+\") as f:\n",
    "                f.write(str(doc['meta']['text']))\n",
    "        except Exception as e:\n",
    "            log.debug(e)\n",
    "        "
   ]
  },
  {
   "cell_type": "code",
   "execution_count": null,
   "metadata": {},
   "outputs": [],
   "source": [
    "# extract text field and save to a file\n",
    "i = 0\n",
    "PATH = 'r'\n",
    "for collection in ['r_amconser',\n",
    "                 'r_breitbart',\n",
    "                 'r_dailycaller',\n",
    "                 'r_dailywire',\n",
    "                 'r_economist',\n",
    "                 'r_fiscaltimes',\n",
    "                 'r_foxnews',\n",
    "                 'r_nypost',\n",
    "                 'r_reason',\n",
    "                 'r_thehill',\n",
    "                 'r_washtimes']:\n",
    "    for doc in db[collection].find():\n",
    "        i+=1\n",
    "        filename = PATH + '/' + str(i) + '.txt'\n",
    "        log.debug(f'Processing {doc[\"_id\"]}: {filename}')\n",
    "\n",
    "        try:\n",
    "            with open(filename,\"w+\") as f:\n",
    "                f.write(str(doc['meta']['text']))\n",
    "        except Exception as e:\n",
    "            log.debug(e)\n",
    "        "
   ]
  },
  {
   "cell_type": "code",
   "execution_count": 74,
   "metadata": {},
   "outputs": [
    {
     "data": {
      "text/plain": [
       "159083"
      ]
     },
     "execution_count": 74,
     "metadata": {},
     "output_type": "execute_result"
    }
   ],
   "source": [
    "LEFT = !ls l/\n",
    "len(LEFT)"
   ]
  },
  {
   "cell_type": "code",
   "execution_count": null,
   "metadata": {},
   "outputs": [],
   "source": [
    "bad_string = 'Copyright © 2018 The Washington Times, LLC. Click here for reprint permission.'\n",
    "\n",
    "def substract(a, b):                              \n",
    "    return \"\".join(a.rsplit(b))\n",
    "\n",
    "for doc in db[collection].find():\n",
    "    log.debug(doc['_id'])\n",
    "\n",
    "    # remove unneeded text sentence from article\n",
    "    text = substract(doc['meta']['text'],bad_string)\n",
    "\n",
    "    db[collection].update_one(\n",
    "        {\n",
    "            '_id':ObjectId(doc['_id'])\n",
    "        },\n",
    "            {\n",
    "                '$set':\n",
    "                    {\n",
    "                     'meta.text' : text\n",
    "                    }\n",
    "            }\n",
    "            ,\n",
    "            upsert=True\n",
    "        )"
   ]
  },
  {
   "cell_type": "code",
   "execution_count": 25,
   "metadata": {},
   "outputs": [
    {
     "name": "stderr",
     "output_type": "stream",
     "text": [
      "DEBUG:__main__:5b5ba39dd1c45dd7bcdc9e9e\n"
     ]
    }
   ],
   "source": [
    "doc = db[collection].find_one()\n",
    "log.debug(doc['_id'])"
   ]
  },
  {
   "cell_type": "code",
   "execution_count": null,
   "metadata": {},
   "outputs": [],
   "source": [
    "doc = db[collection].find_one({'_id':ObjectId('5b5ba39dd1c45dd7bcdc9e9e')})\n",
    "doc"
   ]
  },
  {
   "cell_type": "code",
   "execution_count": null,
   "metadata": {},
   "outputs": [],
   "source": []
  },
  {
   "cell_type": "code",
   "execution_count": null,
   "metadata": {},
   "outputs": [],
   "source": []
  }
 ],
 "metadata": {
  "kernelspec": {
   "display_name": "Python 3",
   "language": "python",
   "name": "python3"
  },
  "language_info": {
   "codemirror_mode": {
    "name": "ipython",
    "version": 3
   },
   "file_extension": ".py",
   "mimetype": "text/x-python",
   "name": "python",
   "nbconvert_exporter": "python",
   "pygments_lexer": "ipython3",
   "version": "3.6.5"
  },
  "varInspector": {
   "cols": {
    "lenName": 16,
    "lenType": 16,
    "lenVar": 40
   },
   "kernels_config": {
    "python": {
     "delete_cmd_postfix": "",
     "delete_cmd_prefix": "del ",
     "library": "var_list.py",
     "varRefreshCmd": "print(var_dic_list())"
    },
    "r": {
     "delete_cmd_postfix": ") ",
     "delete_cmd_prefix": "rm(",
     "library": "var_list.r",
     "varRefreshCmd": "cat(var_dic_list()) "
    }
   },
   "types_to_exclude": [
    "module",
    "function",
    "builtin_function_or_method",
    "instance",
    "_Feature"
   ],
   "window_display": false
  }
 },
 "nbformat": 4,
 "nbformat_minor": 2
}
