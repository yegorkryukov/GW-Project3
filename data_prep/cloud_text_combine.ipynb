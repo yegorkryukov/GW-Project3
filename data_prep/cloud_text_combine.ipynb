{
 "cells": [
  {
   "cell_type": "code",
   "execution_count": 9,
   "metadata": {
    "collapsed": true
   },
   "outputs": [],
   "source": [
    "#set up sites\n",
    "l_names = ['NewRepublic', 'MotherJones', 'Slate', 'Intercept', 'DailyBeast', \n",
    "         'Atlantic', 'Politico', 'Guardian', 'BBC', 'WashingtonPost']\n",
    "\n",
    "r_names = ['DailyWire', 'FoxNews', 'NewYorkPost', 'Reason',\n",
    "           'AmericanConservative', 'Economist', 'FiscalTimes',\n",
    "           'Hill', 'WashingtonTimes', 'Breitbart']\n",
    "\n",
    "all_names = ['../output/cloud_all_right.txt', '../output/cloud_all_left.txt']"
   ]
  },
  {
   "cell_type": "code",
   "execution_count": 3,
   "metadata": {
    "collapsed": true
   },
   "outputs": [],
   "source": [
    "#combine all left in a new txt file\n",
    "with open('../output/cloud_all_left.txt', 'w', encoding='utf8') as outfile:\n",
    "    for name in l_names:\n",
    "        file_name = f'../output/L-{name}3_text.txt'\n",
    "        with open(file_name, encoding='utf8') as infile:\n",
    "            for line in infile:\n",
    "                outfile.write(line)"
   ]
  },
  {
   "cell_type": "code",
   "execution_count": 7,
   "metadata": {
    "collapsed": true
   },
   "outputs": [],
   "source": [
    "#combine all right in a new txt file\n",
    "with open('../output/cloud_all_right.txt', 'w', encoding='utf8') as outfile:\n",
    "    for name in r_names:\n",
    "        file_name = f'../output/R-{name}3_text.txt'\n",
    "        with open(file_name, encoding='utf8') as infile:\n",
    "            for line in infile:\n",
    "                outfile.write(line)"
   ]
  },
  {
   "cell_type": "code",
   "execution_count": 10,
   "metadata": {
    "collapsed": true
   },
   "outputs": [],
   "source": [
    "#combine all and put in a new txt file\n",
    "with open('../output/cloud_all_combined.txt', 'w', encoding='utf8') as outfile:\n",
    "    for name in all_names:\n",
    "        with open(name, encoding='utf8') as infile:\n",
    "            for line in infile:\n",
    "                outfile.write(line)"
   ]
  }
 ],
 "metadata": {
  "kernelspec": {
   "display_name": "Python 3",
   "language": "python",
   "name": "python3"
  },
  "language_info": {
   "codemirror_mode": {
    "name": "ipython",
    "version": 3
   },
   "file_extension": ".py",
   "mimetype": "text/x-python",
   "name": "python",
   "nbconvert_exporter": "python",
   "pygments_lexer": "ipython3",
   "version": "3.6.3"
  }
 },
 "nbformat": 4,
 "nbformat_minor": 2
}
