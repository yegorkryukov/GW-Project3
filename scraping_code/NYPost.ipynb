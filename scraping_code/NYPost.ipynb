{
 "cells": [
  {
   "cell_type": "markdown",
   "metadata": {
    "heading_collapsed": true
   },
   "source": [
    "# Dependencies"
   ]
  },
  {
   "cell_type": "code",
   "execution_count": 1,
   "metadata": {
    "hidden": true
   },
   "outputs": [],
   "source": [
    "# %load_ext autoreload\n",
    "# %autoreload 2\n",
    "\n",
    "# For debugging turn on logging to console\n",
    "import logging\n",
    "logging.basicConfig(level=logging.DEBUG)\n",
    "log = logging.getLogger(__name__)\n",
    "\n",
    "# mongodb\n",
    "import pymongo as pm\n",
    "\n",
    "# fine-tuned newspaper lib\n",
    "from resources.newspaper import newspaper\n",
    "from resources.newspaper.newspaper.source import Source\n",
    "from resources.newspaper.newspaper.article import Article\n",
    "\n",
    "import bs4 as bs\n",
    "from urllib.parse import urljoin\n",
    "from dateutil.parser import parse as date_parser\n",
    "from time import sleep\n",
    "import random\n",
    "import pytz\n",
    "import datetime\n",
    "\n",
    "import requests\n",
    "\n",
    "logging.getLogger('urllib3').setLevel(logging.WARNING)"
   ]
  },
  {
   "cell_type": "code",
   "execution_count": null,
   "metadata": {
    "hidden": true
   },
   "outputs": [],
   "source": [
    "# for infinite scroll page\n",
    "from selenium import webdriver\n",
    "from selenium.webdriver.common.by import By\n",
    "from selenium.webdriver.common.keys import Keys\n",
    "from selenium.webdriver.support.ui import Select\n",
    "from selenium.webdriver.support.ui import WebDriverWait\n",
    "from selenium.common.exceptions import TimeoutException\n",
    "from selenium.webdriver.support import expected_conditions as EC\n",
    "from selenium.common.exceptions import NoSuchElementException\n",
    "from selenium.common.exceptions import NoAlertPresentException\n",
    "import sys\n",
    "\n",
    "import unittest, time, re\n",
    "\n",
    "# to divert selenium log stream away\n",
    "logging.getLogger('selenium').setLevel(logging.WARNING)\n"
   ]
  },
  {
   "cell_type": "markdown",
   "metadata": {
    "heading_collapsed": true
   },
   "source": [
    "# Helpers"
   ]
  },
  {
   "cell_type": "code",
   "execution_count": 20,
   "metadata": {
    "hidden": true
   },
   "outputs": [],
   "source": [
    "# Initialize PyMongo to work with MongoDBs\n",
    "conn = 'mongodb://localhost:27017'\n",
    "client = pm.MongoClient(conn, maxPoolSize=200)\n",
    "\n",
    "# define db \n",
    "# DB_NAME = 'scrape'\n",
    "DB_NAME = 'FINALP'\n",
    "db = client[DB_NAME]\n",
    "\n",
    "def saveToDB(db, collection, url, html, meta={}):\n",
    "    \"\"\"\n",
    "    Saves a document to mongoDB, making sure there are no duplicates by \n",
    "    'url' value\n",
    "    \n",
    "    Parameters:\n",
    "    --------\n",
    "    db, collection  : mongo db connection\n",
    "    url, html, meta : values to store\n",
    "    \n",
    "    Returns:\n",
    "    --------\n",
    "    Saved document\n",
    "    \"\"\"\n",
    "    collection = db[collection]\n",
    "    collection.update_one(\n",
    "        {'url' : url},\n",
    "        {\n",
    "            '$set':\n",
    "                {'url' : url,\n",
    "                 'html' : html,\n",
    "                 'meta' : meta\n",
    "                }\n",
    "        }\n",
    "        ,\n",
    "        upsert=True\n",
    "    )\n",
    "    log.debug(f'Saved to DB')\n",
    "\n",
    "def scrape(url, db, collection):\n",
    "    '''\n",
    "    Scrapes an article from the 'url' up to the 'latest_date'\n",
    "    \n",
    "    Parameters:\n",
    "    --------\n",
    "    url         : main news website url\n",
    "    date        : YYYY-MM-DD\n",
    "    db          : database name\n",
    "    collection  : mongodb collection\n",
    "    \n",
    "    Returns:\n",
    "    --------\n",
    "    Article's html and features stored to db, \n",
    "    Article's publish date\n",
    "    \n",
    "    '''\n",
    "    log.debug(f\"Exctracting features from {url}\")\n",
    "    try:\n",
    "        article = Article(url)\n",
    "        article.download()\n",
    "        # the below method may only extract a snippet... \n",
    "        # check the database for results of text extraction\n",
    "        # and apply additional processing if needed after \n",
    "        # article has been stored in the DB\n",
    "        # see code below Newrepublic for example\n",
    "        article.parse()\n",
    "    except Exception as e:\n",
    "        log.critical(f'Data not saved: {e}')\n",
    "        return datetime.datetime.now()\n",
    "    \n",
    "    saveToDB(db, collection, article.url, article.html, meta={\n",
    "        'date'    :article.publish_date,\n",
    "        'title'   :article.title,\n",
    "        'text'    :article.text,\n",
    "        'authors' :article.authors\n",
    "    })\n",
    "    \n",
    "    return article.publish_date\n",
    "\n",
    "def addToDB(DB_NAME,COL_NAME,PATH,FILE):\n",
    "    '''\n",
    "    Imports a file into mongoDB\n",
    "    \n",
    "    Parameters:\n",
    "    --------\n",
    "    DB_NAME : Name of the database to connect to\n",
    "    COL_NAME: Name of the collection to create\n",
    "    PATH    : Path to folder with the file\n",
    "    FILE  : Filename\n",
    "    \n",
    "    Returns:\n",
    "    --------\n",
    "    Collection COL_NAME in DB_NAME database\n",
    "    '''\n",
    "    !mongoimport --db {DB_NAME} --collection {COL_NAME} --file {PATH+FILE} --batchSize 1\n",
    "    print(f'Collection {COL_NAME} in {DB_NAME} database created')"
   ]
  },
  {
   "cell_type": "markdown",
   "metadata": {},
   "source": [
    "# NY Post"
   ]
  },
  {
   "cell_type": "code",
   "execution_count": null,
   "metadata": {},
   "outputs": [],
   "source": [
    "collection = 'nypost'\n",
    "source = 'https://nypost.com/news/'\n",
    "\n",
    "class Sel(unittest.TestCase):\n",
    "    def setUp(self):\n",
    "        self.driver = webdriver.Chrome()\n",
    "        self.driver.implicitly_wait(30)\n",
    "        self.base_url = source\n",
    "        self.verificationErrors = []\n",
    "        self.accept_next_alert = True\n",
    "    def getPage(self):\n",
    "        driver = self.driver\n",
    "        delay = 2\n",
    "        driver.get(self.base_url)\n",
    "        html_source = driver.page_source\n",
    "        self.html = html_source.encode('utf-8')\n",
    "        return self.html\n",
    "    def scrollDown(self):\n",
    "        driver = self.driver\n",
    "        driver.execute_script(\"window.scrollTo(0, document.body.scrollHeight);\")\n",
    "        self.html = driver.page_source.encode('utf-8')\n",
    "        return driver.page_source \n",
    "    def shutdown(self):\n",
    "        driver = self.driver\n",
    "        driver.quit()\n",
    "\n",
    "data = Sel()\n",
    "\n",
    "data.setUp()\n",
    "data.getPage()\n",
    "page = 1\n",
    "\n",
    "utc=pytz.UTC\n",
    "earliest_date = utc.localize(date_parser('2017-01-01'))\n",
    "\n",
    "scraped_urls = []\n",
    "\n",
    "while True:\n",
    "    log.debug(f'NEXT SCROLL (#{page})')\n",
    "    page += 1\n",
    "    \n",
    "    html = data.scrollDown()\n",
    "    soup = bs.BeautifulSoup(html,'lxml')\n",
    "\n",
    "    for link in soup.find('div', {\"id\":\"primary\"}).findAll('a'):\n",
    "        url = urljoin(source, link['href'])\n",
    "        if url and url not in scraped_urls:\n",
    "            scraped_urls.append(url)\n",
    "            log.debug(f'Processing url: {url}')\n",
    "            article_date = scrape(url, db, collection)\n",
    "    try:\n",
    "        if article_date < earliest_date:\n",
    "            log.debug(f'Reached earliest date requested: {article_date}')\n",
    "            break\n",
    "    except Exception as e:\n",
    "        log.debug(f\"Something is wrong: {e}\")\n",
    "data.shutdown()"
   ]
  },
  {
   "cell_type": "code",
   "execution_count": null,
   "metadata": {},
   "outputs": [],
   "source": [
    "collection = 'nypost'\n",
    "source = 'https://nypost.com/news/page/'\n",
    "page   = 903\n",
    "\n",
    "utc=pytz.UTC\n",
    "earliest_date = date_parser('2017-01-01')\n",
    "\n",
    "while True:\n",
    "    log.debug(f'\\n\\n PROCESSING PAGE: {source+str(page)}\\n\\n\\\n",
    "              ====================================\\n\\n')\n",
    "    s = Source(source+str(page))\n",
    "    page += 1\n",
    "    s.download()\n",
    "    soup = bs.BeautifulSoup(s.html,'lxml')\n",
    "\n",
    "    for h3 in soup.find('div', {\"id\":\"primary\"}).findAll('h3'):\n",
    "        for link in h3.findAll('a'):\n",
    "            url = link['href']\n",
    "            log.debug(f'Processing url: {url}')\n",
    "\n",
    "            try:\n",
    "                article_date = scrape(url, db, collection)\n",
    "            except Exception as e:\n",
    "                log.debug(e)\n",
    "                article_date = earliest_date + 1 #to make sure scraping continues\n",
    "\n",
    "        try:\n",
    "            if article_date < earliest_date:\n",
    "                log.debug(f'Reached earliest date requested: {article_date}')\n",
    "                break\n",
    "        except Exception as e:\n",
    "            log.debug(f'Exception: {e}')\n",
    "            continue"
   ]
  },
  {
   "cell_type": "code",
   "execution_count": 37,
   "metadata": {},
   "outputs": [
    {
     "name": "stderr",
     "output_type": "stream",
     "text": [
      "DEBUG:__main__:Stopped scraping at page 903\n"
     ]
    }
   ],
   "source": [
    "log.debug(f\"Stopped scraping at page {page}\")"
   ]
  },
  {
   "cell_type": "code",
   "execution_count": 25,
   "metadata": {},
   "outputs": [
    {
     "data": {
      "text/plain": [
       "True"
      ]
     },
     "execution_count": 25,
     "metadata": {},
     "output_type": "execute_result"
    }
   ],
   "source": [
    "FIX AUTHORS"
   ]
  },
  {
   "cell_type": "code",
   "execution_count": null,
   "metadata": {},
   "outputs": [],
   "source": []
  }
 ],
 "metadata": {
  "kernelspec": {
   "display_name": "Python 3",
   "language": "python",
   "name": "python3"
  },
  "language_info": {
   "codemirror_mode": {
    "name": "ipython",
    "version": 3
   },
   "file_extension": ".py",
   "mimetype": "text/x-python",
   "name": "python",
   "nbconvert_exporter": "python",
   "pygments_lexer": "ipython3",
   "version": "3.6.6"
  },
  "varInspector": {
   "cols": {
    "lenName": 16,
    "lenType": 16,
    "lenVar": 40
   },
   "kernels_config": {
    "python": {
     "delete_cmd_postfix": "",
     "delete_cmd_prefix": "del ",
     "library": "var_list.py",
     "varRefreshCmd": "print(var_dic_list())"
    },
    "r": {
     "delete_cmd_postfix": ") ",
     "delete_cmd_prefix": "rm(",
     "library": "var_list.r",
     "varRefreshCmd": "cat(var_dic_list()) "
    }
   },
   "types_to_exclude": [
    "module",
    "function",
    "builtin_function_or_method",
    "instance",
    "_Feature"
   ],
   "window_display": false
  }
 },
 "nbformat": 4,
 "nbformat_minor": 2
}
