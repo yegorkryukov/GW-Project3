{
 "cells": [
  {
   "cell_type": "code",
   "execution_count": null,
   "metadata": {
    "collapsed": true
   },
   "outputs": [],
   "source": [
    "#dependencies\n",
    "import pymongo\n",
    "import time"
   ]
  },
  {
   "cell_type": "code",
   "execution_count": null,
   "metadata": {
    "collapsed": true
   },
   "outputs": [],
   "source": [
    "#set up mongodb connection\n",
    "conn = 'mongodb://localhost:27017'\n",
    "client = pymongo.MongoClient(conn)"
   ]
  },
  {
   "cell_type": "code",
   "execution_count": null,
   "metadata": {
    "collapsed": true
   },
   "outputs": [],
   "source": [
    "#list of news sites\n",
    "name_list = ['NewRepublic', 'MotherJones', 'Slate', \n",
    "             'Intercept', 'DailyBeast', 'Atlantic', \n",
    "             'Politico', 'Guardian', 'BBC', 'WashingtonPost']"
   ]
  },
  {
   "cell_type": "code",
   "execution_count": null,
   "metadata": {
    "collapsed": true
   },
   "outputs": [],
   "source": [
    "# Record starting time\n",
    "start = time.time()"
   ]
  },
  {
   "cell_type": "code",
   "execution_count": null,
   "metadata": {
    "collapsed": true,
    "scrolled": true
   },
   "outputs": [],
   "source": [
    "#loop through the sites\n",
    "for name in name_list:\n",
    "   \n",
    "    #set up the names\n",
    "    news_site = f'L-{name}3'\n",
    "    text_path = f'../output/{news_site}_text.txt'  \n",
    "    \n",
    "    #blank list\n",
    "    text_list = []\n",
    "    \n",
    "    #choose the db\n",
    "    db = client[news_site]\n",
    "\n",
    "    #chose the HTML_pages\n",
    "    documents = db.HTML_pages.find()\n",
    "    \n",
    "    print()\n",
    "    print(db)\n",
    "    print('-----------------------')\n",
    "    \n",
    "    #loop through the documents\n",
    "    for i in range(0, documents.count()):\n",
    "    \n",
    "        #progress tracker\n",
    "        print(f'{i}/{documents.count()}')\n",
    "        \n",
    "        text = (documents[i]['meta']['text']).replace(\"\\n\", \" \")\n",
    "                       \n",
    "        #append to text_list\n",
    "        text_list.append(text)\n",
    "               \n",
    "    #convert the list to a string\n",
    "    text_string = ' '.join(text_list)\n",
    "    \n",
    "    #export to a text file\n",
    "    with open(text_path, \"w\", encoding='utf8') as text_file:\n",
    "        text_file.write(text_string)\n",
    "    \n",
    "    #end time\n",
    "    end = time.time()\n",
    "\n",
    "    #minutes elapsed\n",
    "    print((end - start)/60)    "
   ]
  }
 ],
 "metadata": {
  "kernelspec": {
   "display_name": "Python 3",
   "language": "python",
   "name": "python3"
  },
  "language_info": {
   "codemirror_mode": {
    "name": "ipython",
    "version": 3
   },
   "file_extension": ".py",
   "mimetype": "text/x-python",
   "name": "python",
   "nbconvert_exporter": "python",
   "pygments_lexer": "ipython3",
   "version": "3.6.3"
  }
 },
 "nbformat": 4,
 "nbformat_minor": 2
}
